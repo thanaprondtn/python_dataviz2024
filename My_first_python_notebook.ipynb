{
  "nbformat": 4,
  "nbformat_minor": 0,
  "metadata": {
    "colab": {
      "provenance": [],
      "authorship_tag": "ABX9TyPK1xqEJD/NOmj6CdDdB+Vw",
      "include_colab_link": true
    },
    "kernelspec": {
      "name": "python3",
      "display_name": "Python 3"
    },
    "language_info": {
      "name": "python"
    }
  },
  "cells": [
    {
      "cell_type": "markdown",
      "metadata": {
        "id": "view-in-github",
        "colab_type": "text"
      },
      "source": [
        "<a href=\"https://colab.research.google.com/github/thanaprondtn/python_dataviz2024/blob/main/My_first_python_notebook.ipynb\" target=\"_parent\"><img src=\"https://colab.research.google.com/assets/colab-badge.svg\" alt=\"Open In Colab\"/></a>"
      ]
    },
    {
      "cell_type": "markdown",
      "source": [
        "Basic Programming for Data Science & Data Visualization\n",
        "\n",
        "here we use Markdown"
      ],
      "metadata": {
        "id": "0X9GNp5hRffj"
      }
    },
    {
      "cell_type": "code",
      "source": [
        "print('Thanapron')"
      ],
      "metadata": {
        "colab": {
          "base_uri": "https://localhost:8080/"
        },
        "id": "fneWhiFGSQyi",
        "outputId": "13646e30-213b-4002-80ed-f617b2268536"
      },
      "execution_count": 1,
      "outputs": [
        {
          "output_type": "stream",
          "name": "stdout",
          "text": [
            "Thanapron\n"
          ]
        }
      ]
    },
    {
      "cell_type": "code",
      "source": [
        "print('Datthanim')"
      ],
      "metadata": {
        "colab": {
          "base_uri": "https://localhost:8080/"
        },
        "id": "UGxNZS8iSwq3",
        "outputId": "7ccb2651-8345-4879-da9b-931697d93fb3"
      },
      "execution_count": 2,
      "outputs": [
        {
          "output_type": "stream",
          "name": "stdout",
          "text": [
            "Datthanim\n"
          ]
        }
      ]
    }
  ]
}